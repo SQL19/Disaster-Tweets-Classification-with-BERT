{
  "nbformat": 4,
  "nbformat_minor": 0,
  "metadata": {
    "colab": {
      "provenance": [],
      "gpuType": "T4"
    },
    "kernelspec": {
      "name": "python3",
      "display_name": "Python 3"
    },
    "language_info": {
      "name": "python"
    },
    "accelerator": "GPU"
  },
  "cells": [
    {
      "cell_type": "code",
      "execution_count": 1,
      "metadata": {
        "id": "TKEfMtFpvKHF"
      },
      "outputs": [],
      "source": [
        "import numpy as np\n",
        "import pandas as pd"
      ]
    },
    {
      "cell_type": "code",
      "source": [
        "df = pd.read_csv('training_data.csv')"
      ],
      "metadata": {
        "id": "0uA-B2rQ500A"
      },
      "execution_count": 2,
      "outputs": []
    },
    {
      "cell_type": "markdown",
      "source": [
        "### Classification with TFIDF and SVM"
      ],
      "metadata": {
        "id": "NOfD8UAg5_KD"
      }
    },
    {
      "cell_type": "code",
      "source": [
        "from sklearn.feature_extraction.text import TfidfVectorizer\n",
        "from sklearn.model_selection import train_test_split\n",
        "from sklearn.svm import LinearSVC\n",
        "from sklearn.metrics import classification_report, confusion_matrix"
      ],
      "metadata": {
        "id": "a2SwjVne91Ba"
      },
      "execution_count": 3,
      "outputs": []
    },
    {
      "cell_type": "code",
      "source": [
        "text = df['clean_text']\n",
        "y = df['target']"
      ],
      "metadata": {
        "id": "x0vksTts6LS8"
      },
      "execution_count": 4,
      "outputs": []
    },
    {
      "cell_type": "code",
      "source": [
        "tfidf = TfidfVectorizer()\n",
        "X = tfidf.fit_transform(text)"
      ],
      "metadata": {
        "id": "wjDQ1iuG7BhD"
      },
      "execution_count": 5,
      "outputs": []
    },
    {
      "cell_type": "code",
      "source": [
        "# split train and test\n",
        "X_train, X_test, y_train, y_test = train_test_split(X, y, test_size=0.2, random_state=42, stratify=y)"
      ],
      "metadata": {
        "id": "l1InI4a07OjA"
      },
      "execution_count": 6,
      "outputs": []
    },
    {
      "cell_type": "code",
      "source": [
        "# svm model\n",
        "svm = LinearSVC()\n",
        "svm.fit(X_train, y_train)\n",
        "y_pred = svm.predict(X_test)"
      ],
      "metadata": {
        "id": "kEWP0LQp7mKK"
      },
      "execution_count": 7,
      "outputs": []
    },
    {
      "cell_type": "code",
      "source": [
        "print(classification_report(y_test, y_pred))"
      ],
      "metadata": {
        "colab": {
          "base_uri": "https://localhost:8080/"
        },
        "id": "4UrZ6eM576R8",
        "outputId": "fb4f3c74-ba0e-4eff-e305-fbf496f825b0"
      },
      "execution_count": 8,
      "outputs": [
        {
          "output_type": "stream",
          "name": "stdout",
          "text": [
            "              precision    recall  f1-score   support\n",
            "\n",
            "           0       0.81      0.88      0.84       869\n",
            "           1       0.82      0.72      0.77       654\n",
            "\n",
            "    accuracy                           0.81      1523\n",
            "   macro avg       0.81      0.80      0.80      1523\n",
            "weighted avg       0.81      0.81      0.81      1523\n",
            "\n"
          ]
        }
      ]
    },
    {
      "cell_type": "markdown",
      "source": [
        "### Classification with Word Embedding and Deep Learning"
      ],
      "metadata": {
        "id": "pUCgTwBk9g1f"
      }
    },
    {
      "cell_type": "code",
      "source": [
        "from tensorflow.keras.preprocessing.text import Tokenizer\n",
        "from tensorflow.keras.preprocessing.sequence import pad_sequences\n",
        "from tensorflow.keras.models import Sequential\n",
        "from tensorflow.keras.layers import Embedding, LSTM, Dense, SpatialDropout1D, Dropout, Conv1D, GlobalMaxPooling1D, MaxPooling1D\n",
        "from tensorflow.keras.optimizers import Adam"
      ],
      "metadata": {
        "id": "1sxuKf8o-GOK"
      },
      "execution_count": 9,
      "outputs": []
    },
    {
      "cell_type": "code",
      "source": [
        "token = Tokenizer()\n",
        "token.fit_on_texts(text)"
      ],
      "metadata": {
        "id": "bdoYWAnK-eIP"
      },
      "execution_count": 10,
      "outputs": []
    },
    {
      "cell_type": "code",
      "source": [
        "vocab_size = len(token.word_index) + 1\n",
        "vocab_size"
      ],
      "metadata": {
        "colab": {
          "base_uri": "https://localhost:8080/"
        },
        "id": "ys1AuUwh-uFf",
        "outputId": "9cc5ce89-6cfa-405e-e7cc-4f4ece43b242"
      },
      "execution_count": 11,
      "outputs": [
        {
          "output_type": "execute_result",
          "data": {
            "text/plain": [
              "22581"
            ]
          },
          "metadata": {},
          "execution_count": 11
        }
      ]
    },
    {
      "cell_type": "code",
      "source": [
        "print(token.word_index)"
      ],
      "metadata": {
        "id": "z1a26Hd7-0pe"
      },
      "execution_count": null,
      "outputs": []
    },
    {
      "cell_type": "code",
      "source": [
        "encoded_text = token.texts_to_sequences(text)"
      ],
      "metadata": {
        "id": "1i1T4sux_XWd"
      },
      "execution_count": 13,
      "outputs": []
    },
    {
      "cell_type": "code",
      "source": [
        "len(encoded_text)"
      ],
      "metadata": {
        "colab": {
          "base_uri": "https://localhost:8080/"
        },
        "id": "lar_vrsL_cAx",
        "outputId": "d6b8f616-df31-4435-cf79-282a2a02f06d"
      },
      "execution_count": 14,
      "outputs": [
        {
          "output_type": "execute_result",
          "data": {
            "text/plain": [
              "7613"
            ]
          },
          "metadata": {},
          "execution_count": 14
        }
      ]
    },
    {
      "cell_type": "code",
      "source": [
        "max_length = 50\n",
        "X = pad_sequences(encoded_text, maxlen=max_length, padding='post')"
      ],
      "metadata": {
        "id": "vesxGS9q_q7z"
      },
      "execution_count": 15,
      "outputs": []
    },
    {
      "cell_type": "code",
      "source": [
        "print(X)"
      ],
      "metadata": {
        "colab": {
          "base_uri": "https://localhost:8080/"
        },
        "id": "HIkbDqoa_zQV",
        "outputId": "da855a7c-ea1c-4ef9-a5c1-76417743612e"
      },
      "execution_count": 16,
      "outputs": [
        {
          "output_type": "stream",
          "name": "stdout",
          "text": [
            "[[ 109 4491   22 ...    0    0    0]\n",
            " [ 186   43  223 ...    0    0    0]\n",
            " [  41 1682 1435 ...    0    0    0]\n",
            " ...\n",
            " [2709 2295 4483 ...    0    0    0]\n",
            " [  75 1092   39 ...    0    0    0]\n",
            " [   2  206   55 ...    0    0    0]]\n"
          ]
        }
      ]
    },
    {
      "cell_type": "code",
      "source": [
        "X.shape"
      ],
      "metadata": {
        "colab": {
          "base_uri": "https://localhost:8080/"
        },
        "id": "B4QjkHCY_1s-",
        "outputId": "f3e53462-7286-450f-ff96-ec036e3e3963"
      },
      "execution_count": 17,
      "outputs": [
        {
          "output_type": "execute_result",
          "data": {
            "text/plain": [
              "(7613, 50)"
            ]
          },
          "metadata": {},
          "execution_count": 17
        }
      ]
    },
    {
      "cell_type": "code",
      "source": [
        "X_train, X_test, y_train, y_test = train_test_split(X, y, test_size=0.2, random_state=42, stratify=y)"
      ],
      "metadata": {
        "id": "Fb3No9MEDB26"
      },
      "execution_count": 18,
      "outputs": []
    },
    {
      "cell_type": "code",
      "source": [
        "# sequential model\n",
        "vec_size = 100\n",
        "model = Sequential()\n",
        "model.add(Embedding(vocab_size, vec_size, input_length=max_length))\n",
        "\n",
        "model.add(Conv1D(filters=32, kernel_size=2, activation='relu'))\n",
        "model.add(MaxPooling1D(pool_size=2))\n",
        "model.add(Dropout(0.5))\n",
        "\n",
        "model.add(Dense(32, activation='relu'))\n",
        "model.add(Dropout(0.5))\n",
        "\n",
        "model.add(Dense(16, activation='relu'))\n",
        "\n",
        "model.add(GlobalMaxPooling1D())\n",
        "\n",
        "model.add(Dense(1, activation='sigmoid'))"
      ],
      "metadata": {
        "id": "aWqONuZ3AOWT"
      },
      "execution_count": 19,
      "outputs": []
    },
    {
      "cell_type": "code",
      "source": [
        "model.summary()"
      ],
      "metadata": {
        "colab": {
          "base_uri": "https://localhost:8080/"
        },
        "id": "9fnaDIaKBRZS",
        "outputId": "42e1fae6-2c9e-4be3-84a1-b3a02ffc8346"
      },
      "execution_count": 20,
      "outputs": [
        {
          "output_type": "stream",
          "name": "stdout",
          "text": [
            "Model: \"sequential\"\n",
            "_________________________________________________________________\n",
            " Layer (type)                Output Shape              Param #   \n",
            "=================================================================\n",
            " embedding (Embedding)       (None, 50, 100)           2258100   \n",
            "                                                                 \n",
            " conv1d (Conv1D)             (None, 49, 32)            6432      \n",
            "                                                                 \n",
            " max_pooling1d (MaxPooling1  (None, 24, 32)            0         \n",
            " D)                                                              \n",
            "                                                                 \n",
            " dropout (Dropout)           (None, 24, 32)            0         \n",
            "                                                                 \n",
            " dense (Dense)               (None, 24, 32)            1056      \n",
            "                                                                 \n",
            " dropout_1 (Dropout)         (None, 24, 32)            0         \n",
            "                                                                 \n",
            " dense_1 (Dense)             (None, 24, 16)            528       \n",
            "                                                                 \n",
            " global_max_pooling1d (Glob  (None, 16)                0         \n",
            " alMaxPooling1D)                                                 \n",
            "                                                                 \n",
            " dense_2 (Dense)             (None, 1)                 17        \n",
            "                                                                 \n",
            "=================================================================\n",
            "Total params: 2266133 (8.64 MB)\n",
            "Trainable params: 2266133 (8.64 MB)\n",
            "Non-trainable params: 0 (0.00 Byte)\n",
            "_________________________________________________________________\n"
          ]
        }
      ]
    },
    {
      "cell_type": "code",
      "source": [
        "%%time\n",
        "model.compile(loss='binary_crossentropy', optimizer='adam', metrics=['accuracy'])\n",
        "model.fit(X_train, y_train, epochs=10, batch_size=64, validation_data=(X_test, y_test))"
      ],
      "metadata": {
        "colab": {
          "base_uri": "https://localhost:8080/"
        },
        "id": "MYp2TUU2Bwso",
        "outputId": "7b804ba6-4576-4852-be30-c20a94687eb2"
      },
      "execution_count": 21,
      "outputs": [
        {
          "output_type": "stream",
          "name": "stdout",
          "text": [
            "Epoch 1/10\n",
            "96/96 [==============================] - 34s 269ms/step - loss: 0.6742 - accuracy: 0.5741 - val_loss: 0.6433 - val_accuracy: 0.6697\n",
            "Epoch 2/10\n",
            "96/96 [==============================] - 8s 87ms/step - loss: 0.5654 - accuracy: 0.7333 - val_loss: 0.5111 - val_accuracy: 0.7702\n",
            "Epoch 3/10\n",
            "96/96 [==============================] - 4s 42ms/step - loss: 0.4037 - accuracy: 0.8346 - val_loss: 0.4560 - val_accuracy: 0.8076\n",
            "Epoch 4/10\n",
            "96/96 [==============================] - 3s 35ms/step - loss: 0.2786 - accuracy: 0.8944 - val_loss: 0.4753 - val_accuracy: 0.7879\n",
            "Epoch 5/10\n",
            "96/96 [==============================] - 2s 19ms/step - loss: 0.1853 - accuracy: 0.9342 - val_loss: 0.5039 - val_accuracy: 0.7787\n",
            "Epoch 6/10\n",
            "96/96 [==============================] - 2s 20ms/step - loss: 0.1212 - accuracy: 0.9576 - val_loss: 0.5659 - val_accuracy: 0.7649\n",
            "Epoch 7/10\n",
            "96/96 [==============================] - 1s 13ms/step - loss: 0.0806 - accuracy: 0.9727 - val_loss: 0.6025 - val_accuracy: 0.7682\n",
            "Epoch 8/10\n",
            "96/96 [==============================] - 1s 11ms/step - loss: 0.0570 - accuracy: 0.9826 - val_loss: 0.6557 - val_accuracy: 0.7689\n",
            "Epoch 9/10\n",
            "96/96 [==============================] - 1s 10ms/step - loss: 0.0442 - accuracy: 0.9857 - val_loss: 0.6887 - val_accuracy: 0.7603\n",
            "Epoch 10/10\n",
            "96/96 [==============================] - 1s 10ms/step - loss: 0.0368 - accuracy: 0.9890 - val_loss: 0.7523 - val_accuracy: 0.7387\n",
            "CPU times: user 29.9 s, sys: 1.34 s, total: 31.3 s\n",
            "Wall time: 58.6 s\n"
          ]
        },
        {
          "output_type": "execute_result",
          "data": {
            "text/plain": [
              "<keras.src.callbacks.History at 0x7d0f178d13c0>"
            ]
          },
          "metadata": {},
          "execution_count": 21
        }
      ]
    },
    {
      "cell_type": "code",
      "source": [
        "# prediction\n",
        "x = 'it is so hot today' # example text\n",
        "x = token.texts_to_sequences([x])\n",
        "x = pad_sequences(x, maxlen=max_length, padding='post') # encoded text\n",
        "print(x)\n",
        "\n",
        "y_pred = np.argmax(model.predict(x), axis=-1)\n",
        "print('predicted label:', y_pred)"
      ],
      "metadata": {
        "colab": {
          "base_uri": "https://localhost:8080/"
        },
        "id": "5rI4tyd8Doce",
        "outputId": "54f45036-5042-4ef3-e049-0a56a0f113db"
      },
      "execution_count": 22,
      "outputs": [
        {
          "output_type": "stream",
          "name": "stdout",
          "text": [
            "[[ 13   9  32 188 119   0   0   0   0   0   0   0   0   0   0   0   0   0\n",
            "    0   0   0   0   0   0   0   0   0   0   0   0   0   0   0   0   0   0\n",
            "    0   0   0   0   0   0   0   0   0   0   0   0   0   0]]\n",
            "1/1 [==============================] - 0s 195ms/step\n",
            "predicted label: [0]\n"
          ]
        }
      ]
    },
    {
      "cell_type": "code",
      "source": [
        "# prediction\n",
        "x = 'i met you today by accident' # example text\n",
        "x = token.texts_to_sequences([x])\n",
        "x = pad_sequences(x, maxlen=max_length, padding='post') # encoded text\n",
        "print(x)\n",
        "\n",
        "y_pred = np.argmax(model.predict(x), axis=-1)\n",
        "print('predicted label:', y_pred)"
      ],
      "metadata": {
        "colab": {
          "base_uri": "https://localhost:8080/"
        },
        "id": "GAjJB878jUIC",
        "outputId": "6c5bf5ec-47d2-44ae-d6ad-389a754f5364"
      },
      "execution_count": 23,
      "outputs": [
        {
          "output_type": "stream",
          "name": "stdout",
          "text": [
            "[[   7 6538   10  119   19  128    0    0    0    0    0    0    0    0\n",
            "     0    0    0    0    0    0    0    0    0    0    0    0    0    0\n",
            "     0    0    0    0    0    0    0    0    0    0    0    0    0    0\n",
            "     0    0    0    0    0    0    0    0]]\n",
            "1/1 [==============================] - 0s 19ms/step\n",
            "predicted label: [0]\n"
          ]
        }
      ]
    },
    {
      "cell_type": "code",
      "source": [
        "# prediction\n",
        "x = 'i got car accident today and i am injured' # example text\n",
        "x = token.texts_to_sequences([x])\n",
        "x = pad_sequences(x, maxlen=max_length, padding='post') # encoded text\n",
        "print(x)\n",
        "\n",
        "y_pred = np.argmax(model.predict(x), axis=-1)\n",
        "print('predicted label:', y_pred)"
      ],
      "metadata": {
        "colab": {
          "base_uri": "https://localhost:8080/"
        },
        "id": "H28CCOVRjcje",
        "outputId": "ee809403-9424-4433-9b05-19642ff3a85b"
      },
      "execution_count": 24,
      "outputs": [
        {
          "output_type": "stream",
          "name": "stdout",
          "text": [
            "[[  7  93 126 128 119   8   7  31 251   0   0   0   0   0   0   0   0   0\n",
            "    0   0   0   0   0   0   0   0   0   0   0   0   0   0   0   0   0   0\n",
            "    0   0   0   0   0   0   0   0   0   0   0   0   0   0]]\n",
            "1/1 [==============================] - 0s 25ms/step\n",
            "predicted label: [0]\n"
          ]
        }
      ]
    },
    {
      "cell_type": "markdown",
      "source": [
        "### Classification with BERT"
      ],
      "metadata": {
        "id": "O7WtwJyPHfvi"
      }
    },
    {
      "cell_type": "markdown",
      "source": [
        "ktrain (https://pypi.org/project/ktrain/0.1.6/) is a lightweight wrapper for the deep learning library Keras to help build, train, and deploy neural networks."
      ],
      "metadata": {
        "id": "yBSI1zgRaKjr"
      }
    },
    {
      "cell_type": "code",
      "source": [
        "import ktrain\n",
        "from ktrain import text"
      ],
      "metadata": {
        "id": "I4aLPsmnYjNK"
      },
      "execution_count": 25,
      "outputs": []
    },
    {
      "cell_type": "code",
      "source": [
        "(X_train, y_train), (X_test, y_test), preproc = text.texts_from_df(train_df=df, text_column='text',\n",
        "                                                                   label_columns='target', maxlen=max_length, preprocess_mode='bert')"
      ],
      "metadata": {
        "colab": {
          "base_uri": "https://localhost:8080/",
          "height": 391
        },
        "id": "8p6fbk_XZBm9",
        "outputId": "e831ad8b-5e97-44ae-b117-253b2f59ec6b"
      },
      "execution_count": 26,
      "outputs": [
        {
          "output_type": "stream",
          "name": "stdout",
          "text": [
            "['not_target', 'target']\n",
            "      not_target  target\n",
            "6299         1.0     0.0\n",
            "7576         1.0     0.0\n",
            "32           1.0     0.0\n",
            "1724         1.0     0.0\n",
            "1578         1.0     0.0\n",
            "['not_target', 'target']\n",
            "      not_target  target\n",
            "1532         1.0     0.0\n",
            "2914         1.0     0.0\n",
            "7121         0.0     1.0\n",
            "4183         1.0     0.0\n",
            "654          0.0     1.0\n",
            "preprocessing train...\n",
            "language: en\n"
          ]
        },
        {
          "output_type": "display_data",
          "data": {
            "text/plain": [
              "<IPython.core.display.HTML object>"
            ],
            "text/html": [
              "\n",
              "<style>\n",
              "    /* Turns off some styling */\n",
              "    progress {\n",
              "        /* gets rid of default border in Firefox and Opera. */\n",
              "        border: none;\n",
              "        /* Needs to be in here for Safari polyfill so background images work as expected. */\n",
              "        background-size: auto;\n",
              "    }\n",
              "    progress:not([value]), progress:not([value])::-webkit-progress-bar {\n",
              "        background: repeating-linear-gradient(45deg, #7e7e7e, #7e7e7e 10px, #5c5c5c 10px, #5c5c5c 20px);\n",
              "    }\n",
              "    .progress-bar-interrupted, .progress-bar-interrupted::-webkit-progress-bar {\n",
              "        background: #F44336;\n",
              "    }\n",
              "</style>\n"
            ]
          },
          "metadata": {}
        },
        {
          "output_type": "display_data",
          "data": {
            "text/plain": [
              "<IPython.core.display.HTML object>"
            ],
            "text/html": [
              "done."
            ]
          },
          "metadata": {}
        },
        {
          "output_type": "stream",
          "name": "stdout",
          "text": [
            "Is Multi-Label? False\n",
            "preprocessing test...\n",
            "language: en\n"
          ]
        },
        {
          "output_type": "display_data",
          "data": {
            "text/plain": [
              "<IPython.core.display.HTML object>"
            ],
            "text/html": [
              "\n",
              "<style>\n",
              "    /* Turns off some styling */\n",
              "    progress {\n",
              "        /* gets rid of default border in Firefox and Opera. */\n",
              "        border: none;\n",
              "        /* Needs to be in here for Safari polyfill so background images work as expected. */\n",
              "        background-size: auto;\n",
              "    }\n",
              "    progress:not([value]), progress:not([value])::-webkit-progress-bar {\n",
              "        background: repeating-linear-gradient(45deg, #7e7e7e, #7e7e7e 10px, #5c5c5c 10px, #5c5c5c 20px);\n",
              "    }\n",
              "    .progress-bar-interrupted, .progress-bar-interrupted::-webkit-progress-bar {\n",
              "        background: #F44336;\n",
              "    }\n",
              "</style>\n"
            ]
          },
          "metadata": {}
        },
        {
          "output_type": "display_data",
          "data": {
            "text/plain": [
              "<IPython.core.display.HTML object>"
            ],
            "text/html": [
              "done."
            ]
          },
          "metadata": {}
        }
      ]
    },
    {
      "cell_type": "code",
      "source": [
        "model = text.text_classifier(name='bert', train_data=(X_train, y_train), preproc=preproc)"
      ],
      "metadata": {
        "id": "boRRrTlmZXAp"
      },
      "execution_count": null,
      "outputs": []
    },
    {
      "cell_type": "code",
      "source": [
        "learner = ktrain.get_learner(model=model, train_data=(X_train, y_train), val_data=(X_test, y_test), batch_size=64)"
      ],
      "metadata": {
        "id": "b5FVGhQWZmHj"
      },
      "execution_count": 28,
      "outputs": []
    },
    {
      "cell_type": "code",
      "source": [
        "learner.fit_onecycle(lr = 2e-4, epochs=3)"
      ],
      "metadata": {
        "colab": {
          "base_uri": "https://localhost:8080/"
        },
        "id": "i0Tx9gucaCdi",
        "outputId": "3affe075-40e9-4d44-ccc7-47972dcb265e"
      },
      "execution_count": 29,
      "outputs": [
        {
          "output_type": "stream",
          "name": "stdout",
          "text": [
            "\n",
            "\n",
            "begin training using onecycle policy with max lr of 0.0002...\n",
            "Epoch 1/3\n",
            "108/108 [==============================] - 101s 731ms/step - loss: 0.4656 - accuracy: 0.7889 - val_loss: 0.5470 - val_accuracy: 0.7664\n",
            "Epoch 2/3\n",
            "108/108 [==============================] - 71s 659ms/step - loss: 0.3522 - accuracy: 0.8602 - val_loss: 0.6100 - val_accuracy: 0.7126\n",
            "Epoch 3/3\n",
            "108/108 [==============================] - 71s 657ms/step - loss: 0.2132 - accuracy: 0.9212 - val_loss: 0.5136 - val_accuracy: 0.8123\n"
          ]
        },
        {
          "output_type": "execute_result",
          "data": {
            "text/plain": [
              "<keras.src.callbacks.History at 0x7d0d9d772350>"
            ]
          },
          "metadata": {},
          "execution_count": 29
        }
      ]
    },
    {
      "cell_type": "code",
      "source": [
        "predictor = ktrain.get_predictor(learner.model, preproc)"
      ],
      "metadata": {
        "id": "r0QsjKvWfsJO"
      },
      "execution_count": 30,
      "outputs": []
    },
    {
      "cell_type": "code",
      "source": [
        "data = ['i met you today by accident', 'i got car accident today and i am injured']\n",
        "predictor.predict(data, return_proba=True)"
      ],
      "metadata": {
        "colab": {
          "base_uri": "https://localhost:8080/"
        },
        "id": "imPp33Avf_11",
        "outputId": "c85f90fc-6c09-4813-dcc4-fdedcc6c69c6"
      },
      "execution_count": 31,
      "outputs": [
        {
          "output_type": "execute_result",
          "data": {
            "text/plain": [
              "array([[0.92572623, 0.07427373],\n",
              "       [0.02427271, 0.9757273 ]], dtype=float32)"
            ]
          },
          "metadata": {},
          "execution_count": 31
        }
      ]
    },
    {
      "cell_type": "code",
      "source": [
        "for i in data:\n",
        "    pred = predictor.predict(i)\n",
        "    print('text:', i)\n",
        "    print('predicted class:', predictor.get_classes().index(pred))\n",
        "    print('---------')"
      ],
      "metadata": {
        "colab": {
          "base_uri": "https://localhost:8080/"
        },
        "id": "5IVWqJmUgcHO",
        "outputId": "c60fecd5-6ef1-4ea1-f0eb-b04b762b0dfe"
      },
      "execution_count": 32,
      "outputs": [
        {
          "output_type": "stream",
          "name": "stdout",
          "text": [
            "text: i met you today by accident\n",
            "predicted class: 0\n",
            "---------\n",
            "text: i got car accident today and i am injured\n",
            "predicted class: 1\n",
            "---------\n"
          ]
        }
      ]
    },
    {
      "cell_type": "code",
      "source": [
        "predictor.predict(data[0])"
      ],
      "metadata": {
        "colab": {
          "base_uri": "https://localhost:8080/",
          "height": 35
        },
        "id": "sCKJ9qhKhOqO",
        "outputId": "2b9525d8-4809-44b6-f88e-01be9fa8052c"
      },
      "execution_count": 33,
      "outputs": [
        {
          "output_type": "execute_result",
          "data": {
            "text/plain": [
              "'not_target'"
            ],
            "application/vnd.google.colaboratory.intrinsic+json": {
              "type": "string"
            }
          },
          "metadata": {},
          "execution_count": 33
        }
      ]
    },
    {
      "cell_type": "code",
      "source": [
        "predictor.predict(data[1])"
      ],
      "metadata": {
        "colab": {
          "base_uri": "https://localhost:8080/",
          "height": 35
        },
        "id": "cRyGMnD_ldVT",
        "outputId": "e616e3dc-7918-499d-ee7e-63edb6af0858"
      },
      "execution_count": 34,
      "outputs": [
        {
          "output_type": "execute_result",
          "data": {
            "text/plain": [
              "'target'"
            ],
            "application/vnd.google.colaboratory.intrinsic+json": {
              "type": "string"
            }
          },
          "metadata": {},
          "execution_count": 34
        }
      ]
    }
  ]
}